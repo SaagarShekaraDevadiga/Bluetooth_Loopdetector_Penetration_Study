{
 "cells": [
  {
   "cell_type": "markdown",
   "metadata": {},
   "source": [
    "# Aim \n",
    "Get the total vechile observation at each intersection for one entire day "
   ]
  },
  {
   "cell_type": "code",
   "execution_count": null,
   "metadata": {},
   "outputs": [],
   "source": [
    "import pandas as pd\n",
    "import os\n",
    "os.chdir(\"../Python\") # Tranfer to the working directory "
   ]
  },
  {
   "cell_type": "code",
   "execution_count": 17,
   "metadata": {},
   "outputs": [
    {
     "data": {
      "text/html": [
       "<div>\n",
       "<style scoped>\n",
       "    .dataframe tbody tr th:only-of-type {\n",
       "        vertical-align: middle;\n",
       "    }\n",
       "\n",
       "    .dataframe tbody tr th {\n",
       "        vertical-align: top;\n",
       "    }\n",
       "\n",
       "    .dataframe thead th {\n",
       "        text-align: right;\n",
       "    }\n",
       "</style>\n",
       "<table border=\"1\" class=\"dataframe\">\n",
       "  <thead>\n",
       "    <tr style=\"text-align: right;\">\n",
       "      <th></th>\n",
       "      <th>tsc</th>\n",
       "      <th>MF</th>\n",
       "      <th>RF</th>\n",
       "    </tr>\n",
       "  </thead>\n",
       "  <tbody>\n",
       "    <tr>\n",
       "      <th>0</th>\n",
       "      <td>1</td>\n",
       "      <td>8402.0</td>\n",
       "      <td>7222.0</td>\n",
       "    </tr>\n",
       "    <tr>\n",
       "      <th>1</th>\n",
       "      <td>2</td>\n",
       "      <td>18709.0</td>\n",
       "      <td>20794.0</td>\n",
       "    </tr>\n",
       "    <tr>\n",
       "      <th>2</th>\n",
       "      <td>3</td>\n",
       "      <td>21079.0</td>\n",
       "      <td>22808.0</td>\n",
       "    </tr>\n",
       "    <tr>\n",
       "      <th>3</th>\n",
       "      <td>4</td>\n",
       "      <td>31292.0</td>\n",
       "      <td>34073.0</td>\n",
       "    </tr>\n",
       "    <tr>\n",
       "      <th>4</th>\n",
       "      <td>5</td>\n",
       "      <td>17876.0</td>\n",
       "      <td>17490.0</td>\n",
       "    </tr>\n",
       "    <tr>\n",
       "      <th>...</th>\n",
       "      <td>...</td>\n",
       "      <td>...</td>\n",
       "      <td>...</td>\n",
       "    </tr>\n",
       "    <tr>\n",
       "      <th>999</th>\n",
       "      <td>9002</td>\n",
       "      <td>0.0</td>\n",
       "      <td>0.0</td>\n",
       "    </tr>\n",
       "    <tr>\n",
       "      <th>1000</th>\n",
       "      <td>9003</td>\n",
       "      <td>0.0</td>\n",
       "      <td>0.0</td>\n",
       "    </tr>\n",
       "    <tr>\n",
       "      <th>1001</th>\n",
       "      <td>9012</td>\n",
       "      <td>0.0</td>\n",
       "      <td>0.0</td>\n",
       "    </tr>\n",
       "    <tr>\n",
       "      <th>1002</th>\n",
       "      <td>9015</td>\n",
       "      <td>0.0</td>\n",
       "      <td>0.0</td>\n",
       "    </tr>\n",
       "    <tr>\n",
       "      <th>1003</th>\n",
       "      <td>9363</td>\n",
       "      <td>0.0</td>\n",
       "      <td>0.0</td>\n",
       "    </tr>\n",
       "  </tbody>\n",
       "</table>\n",
       "<p>1004 rows × 3 columns</p>\n",
       "</div>"
      ],
      "text/plain": [
       "       tsc       MF       RF\n",
       "0        1   8402.0   7222.0\n",
       "1        2  18709.0  20794.0\n",
       "2        3  21079.0  22808.0\n",
       "3        4  31292.0  34073.0\n",
       "4        5  17876.0  17490.0\n",
       "...    ...      ...      ...\n",
       "999   9002      0.0      0.0\n",
       "1000  9003      0.0      0.0\n",
       "1001  9012      0.0      0.0\n",
       "1002  9015      0.0      0.0\n",
       "1003  9363      0.0      0.0\n",
       "\n",
       "[1004 rows x 3 columns]"
      ]
     },
     "execution_count": 17,
     "metadata": {},
     "output_type": "execute_result"
    }
   ],
   "source": [
    "Loop_Detector=pd.read_csv(\"ALL_DAY_02_06_2020.csv\")\n",
    "Flow_Sum = Loop_Detector.groupby('tsc').agg({'MF':'sum','RF':'sum'})\n",
    "Flow_Sum.to_csv(\"Total_Flow.csv\")\n",
    "Visualizing_Data=pd.read_csv(\"TOTAL.csv\")\n",
    "Visualizing_Data"
   ]
  },
  {
   "cell_type": "markdown",
   "metadata": {},
   "source": [
    "# Mapping rules for Location:\n",
    "    1.Make a dictinory having a key-value pair of the data needed to be mapped\n",
    "    2.Create a column for which the data must be mapped in the original dataset\n",
    "    3.Use the Map function and feed the dictinoray as an input"
   ]
  },
  {
   "cell_type": "code",
   "execution_count": 8,
   "metadata": {},
   "outputs": [],
   "source": [
    "Location=pd.read_csv(\"IntDetailsOutput.csv\")\n",
    "latitude = dict(zip(Location.tsc, Location.latitude))\n",
    "longitude = dict(zip(Location.tsc, Location.longitude))\n",
    "Visualizing_Data['Latitude']=Visualizing_Data['tsc']\n",
    "Visualizing_Data['Longitude']=Visualizing_Data['tsc']\n",
    "Visualizing_Data['Latitude']=Visualizing_Data['Latitude'].map(latitude)\n",
    "Visualizing_Data['Longitude']=Visualizing_Data['Longitude'].map(longitude)\n",
    "Visualizing_Data.to_csv(\"Visualizing_Data.csv\")"
   ]
  }
 ],
 "metadata": {
  "kernelspec": {
   "display_name": "Python 3",
   "language": "python",
   "name": "python3"
  },
  "language_info": {
   "codemirror_mode": {
    "name": "ipython",
    "version": 3
   },
   "file_extension": ".py",
   "mimetype": "text/x-python",
   "name": "python",
   "nbconvert_exporter": "python",
   "pygments_lexer": "ipython3",
   "version": "3.7.6"
  }
 },
 "nbformat": 4,
 "nbformat_minor": 4
}
