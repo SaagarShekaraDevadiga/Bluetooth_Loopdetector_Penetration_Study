{
 "cells": [
  {
   "cell_type": "markdown",
   "metadata": {},
   "source": [
    "# Master Code"
   ]
  },
  {
   "cell_type": "code",
   "execution_count": null,
   "metadata": {},
   "outputs": [],
   "source": [
    "import pandas as pd\n",
    "import os\n",
    "os.chdir(\"../Python\")\n",
    "# read the data for TSC at 1 minute interval\n",
    "Complete_Dataset=pd.read_csv(\"ALL_DAY_02_06_2020.csv\") \n",
    "\n",
    "TSC=Complete_Dataset.tsc.unique() # get all the unique intersections\n",
    "\n",
    " # Make a time filter for checking missing tsc time period at one minute interval \n",
    "date_range = pd.date_range('05:00:00', '20:00:00', freq='1Min') \n",
    "\n",
    "for i in TSC:\n",
    "    One_TSC=Complete_Dataset.loc[Complete_Dataset['tsc']==i].reset_index(drop=True) #reads individual TSC\n",
    "    subset=One_TSC.loc[(One_TSC['Recorded_time']>=\"05:00:00\") & (One_TSC['Recorded_time']<=\"20:00:00\")].reset_index(drop=True) # Takes a subset of the dataframe based on the defined time window\n",
    "    Missing_Time=date_range[~date_range.isin(subset['Recorded_time'])].to_frame()  # getting the missing time from the subste dataframe\n",
    "    Missing_Time.to_csv(r\"D:\\Python\\Missing Time Split\\Intersection_{}.csv\".format(i))"
   ]
  },
  {
   "cell_type": "markdown",
   "metadata": {},
   "source": [
    "# Testing "
   ]
  },
  {
   "cell_type": "code",
   "execution_count": null,
   "metadata": {},
   "outputs": [],
   "source": [
    " # get the data for only one tsc\n",
    "One_TSC=Complete_Dataset.loc[Complete_Dataset['tsc']==47].reset_index(drop=True)\n",
    " # Make a time filter for checking missing tsc time period at one minute interval \n",
    "date_range = pd.date_range('05:00:00', '20:00:00', freq='1Min') \n",
    "# 15 Hours: 900 Minutes \n",
    "subset=One_TSC.loc[(One_TSC['Recorded_time']>=\"05:00:00\") & (One_TSC['Recorded_time']<=\"20:00:00\")].reset_index(drop=True)\n",
    "# getting the missing time from the sliced dataframe\n",
    "Missing_Time=date_range[~date_range.isin(subset['Recorded_time'])].to_frame().reset_index(drop=True) \n",
    "pd.set_option('display.max_columns', None)  # or 1000\n",
    "pd.set_option('display.max_rows', None)  # or 1000\n",
    "pd.set_option('display.max_colwidth', -1)  # or 199\n",
    "subset # Dataframe with all points from the sliced data"
   ]
  }
 ],
 "metadata": {
  "kernelspec": {
   "display_name": "Python 3",
   "language": "python",
   "name": "python3"
  },
  "language_info": {
   "codemirror_mode": {
    "name": "ipython",
    "version": 3
   },
   "file_extension": ".py",
   "mimetype": "text/x-python",
   "name": "python",
   "nbconvert_exporter": "python",
   "pygments_lexer": "ipython3",
   "version": "3.6.5"
  }
 },
 "nbformat": 4,
 "nbformat_minor": 2
}
