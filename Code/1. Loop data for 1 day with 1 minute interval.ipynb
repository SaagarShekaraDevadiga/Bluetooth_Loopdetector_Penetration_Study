{
 "cells": [
  {
   "cell_type": "markdown",
   "metadata": {},
   "source": [
    "# Aim:\n",
    "To get the total raw and modified flow at each intersection for oneday, map the location information and visualize the final data."
   ]
  },
  {
   "cell_type": "code",
   "execution_count": null,
   "metadata": {},
   "outputs": [],
   "source": [
    "import pandas as pd\n",
    "import os\n",
    "os.chdir(\"..D:/Python\") # Tranfer to the working directory "
   ]
  },
  {
   "cell_type": "code",
   "execution_count": 102,
   "metadata": {},
   "outputs": [],
   "source": [
    "Loop_Detector=pd.read_csv(\"Combined_AM_Peak.csv\")"
   ]
  },
  {
   "cell_type": "markdown",
   "metadata": {},
   "source": [
    " Managing of Nan values is done by replacing with 0 because if we drop them, relevant information is lost"
   ]
  },
  {
   "cell_type": "code",
   "execution_count": 103,
   "metadata": {},
   "outputs": [],
   "source": [
    "Loop_Detector=Loop_Detector.fillna(0)"
   ]
  },
  {
   "cell_type": "markdown",
   "metadata": {},
   "source": [
    "Calculating total raw flow and modified flow of the Loop detector at each intersection based on the time of observation"
   ]
  },
  {
   "cell_type": "code",
   "execution_count": 104,
   "metadata": {},
   "outputs": [],
   "source": [
    "Flow_Count = Loop_Detector.groupby(['Recorded time','tsc']).agg({'mf1':'sum','mf2':'sum','mf3':'sum','mf4':'sum','mf5':'sum','rf1':'sum','rf2':'sum','rf3':'sum','rf4':'sum','rf5':'sum'})"
   ]
  },
  {
   "cell_type": "markdown",
   "metadata": {},
   "source": [
    "Save as a .csv to get all the rows printed after column grouping and aggrigation"
   ]
  },
  {
   "cell_type": "code",
   "execution_count": 105,
   "metadata": {},
   "outputs": [],
   "source": [
    "Flow_Count.to_csv(\"Flow_Count.csv\")\n",
    "Visualizing_Data=pd.read_csv(\"Flow_Count.csv\")"
   ]
  },
  {
   "cell_type": "markdown",
   "metadata": {},
   "source": [
    "Calculating the total modified and raw flow obserevd at each intersection for the entire day "
   ]
  },
  {
   "cell_type": "code",
   "execution_count": 107,
   "metadata": {},
   "outputs": [],
   "source": [
    "Total_Modified_Flow = [ row.mf1 + row.mf2 + row.mf3 + row.mf4 + row.mf5 for index, row in Visualizing_Data.iterrows() ]\n",
    "Total_Raw_Flow = [ row.rf1 + row.rf2 + row.rf3 + row.rf4 + row.rf5 for index, row in Visualizing_Data.iterrows() ]"
   ]
  },
  {
   "cell_type": "code",
   "execution_count": 108,
   "metadata": {},
   "outputs": [],
   "source": [
    "Visualizing_Data['MF']=Total_Modified_Flow\n",
    "Visualizing_Data['RF']=Total_Raw_Flow\n",
    "Visualizing_Data=Visualizing_Data.drop(columns=['mf1', 'mf2','mf3','mf4','mf5','rf1', 'rf2','rf3','rf4','rf5']) # Drop the uneeded columns from the dataframe "
   ]
  },
  {
   "cell_type": "markdown",
   "metadata": {},
   "source": [
    "Data for Visualization "
   ]
  },
  {
   "cell_type": "code",
   "execution_count": 111,
   "metadata": {},
   "outputs": [
    {
     "data": {
      "text/html": [
       "<div>\n",
       "<style scoped>\n",
       "    .dataframe tbody tr th:only-of-type {\n",
       "        vertical-align: middle;\n",
       "    }\n",
       "\n",
       "    .dataframe tbody tr th {\n",
       "        vertical-align: top;\n",
       "    }\n",
       "\n",
       "    .dataframe thead th {\n",
       "        text-align: right;\n",
       "    }\n",
       "</style>\n",
       "<table border=\"1\" class=\"dataframe\">\n",
       "  <thead>\n",
       "    <tr style=\"text-align: right;\">\n",
       "      <th></th>\n",
       "      <th>Recorded time</th>\n",
       "      <th>tsc</th>\n",
       "      <th>MF</th>\n",
       "      <th>RF</th>\n",
       "    </tr>\n",
       "  </thead>\n",
       "  <tbody>\n",
       "    <tr>\n",
       "      <th>0</th>\n",
       "      <td>05:58:00</td>\n",
       "      <td>18</td>\n",
       "      <td>14.0</td>\n",
       "      <td>11.0</td>\n",
       "    </tr>\n",
       "    <tr>\n",
       "      <th>1</th>\n",
       "      <td>05:58:00</td>\n",
       "      <td>19</td>\n",
       "      <td>14.0</td>\n",
       "      <td>22.0</td>\n",
       "    </tr>\n",
       "    <tr>\n",
       "      <th>2</th>\n",
       "      <td>05:58:00</td>\n",
       "      <td>28</td>\n",
       "      <td>82.0</td>\n",
       "      <td>86.0</td>\n",
       "    </tr>\n",
       "    <tr>\n",
       "      <th>3</th>\n",
       "      <td>05:58:00</td>\n",
       "      <td>30</td>\n",
       "      <td>98.0</td>\n",
       "      <td>116.0</td>\n",
       "    </tr>\n",
       "    <tr>\n",
       "      <th>4</th>\n",
       "      <td>05:58:00</td>\n",
       "      <td>31</td>\n",
       "      <td>4.0</td>\n",
       "      <td>0.0</td>\n",
       "    </tr>\n",
       "    <tr>\n",
       "      <th>...</th>\n",
       "      <td>...</td>\n",
       "      <td>...</td>\n",
       "      <td>...</td>\n",
       "      <td>...</td>\n",
       "    </tr>\n",
       "    <tr>\n",
       "      <th>124746</th>\n",
       "      <td>08:59:00</td>\n",
       "      <td>9002</td>\n",
       "      <td>0.0</td>\n",
       "      <td>0.0</td>\n",
       "    </tr>\n",
       "    <tr>\n",
       "      <th>124747</th>\n",
       "      <td>08:59:00</td>\n",
       "      <td>9003</td>\n",
       "      <td>0.0</td>\n",
       "      <td>0.0</td>\n",
       "    </tr>\n",
       "    <tr>\n",
       "      <th>124748</th>\n",
       "      <td>08:59:00</td>\n",
       "      <td>9012</td>\n",
       "      <td>0.0</td>\n",
       "      <td>0.0</td>\n",
       "    </tr>\n",
       "    <tr>\n",
       "      <th>124749</th>\n",
       "      <td>08:59:00</td>\n",
       "      <td>9015</td>\n",
       "      <td>0.0</td>\n",
       "      <td>0.0</td>\n",
       "    </tr>\n",
       "    <tr>\n",
       "      <th>124750</th>\n",
       "      <td>08:59:00</td>\n",
       "      <td>9363</td>\n",
       "      <td>0.0</td>\n",
       "      <td>0.0</td>\n",
       "    </tr>\n",
       "  </tbody>\n",
       "</table>\n",
       "<p>124751 rows × 4 columns</p>\n",
       "</div>"
      ],
      "text/plain": [
       "       Recorded time   tsc    MF     RF\n",
       "0           05:58:00    18  14.0   11.0\n",
       "1           05:58:00    19  14.0   22.0\n",
       "2           05:58:00    28  82.0   86.0\n",
       "3           05:58:00    30  98.0  116.0\n",
       "4           05:58:00    31   4.0    0.0\n",
       "...              ...   ...   ...    ...\n",
       "124746      08:59:00  9002   0.0    0.0\n",
       "124747      08:59:00  9003   0.0    0.0\n",
       "124748      08:59:00  9012   0.0    0.0\n",
       "124749      08:59:00  9015   0.0    0.0\n",
       "124750      08:59:00  9363   0.0    0.0\n",
       "\n",
       "[124751 rows x 4 columns]"
      ]
     },
     "execution_count": 111,
     "metadata": {},
     "output_type": "execute_result"
    }
   ],
   "source": [
    "Visualizing_Data"
   ]
  },
  {
   "cell_type": "code",
   "execution_count": 112,
   "metadata": {},
   "outputs": [],
   "source": [
    "Location=pd.read_csv(\"IntDetailsOutput.csv\")\n",
    "Latitude = dict(zip(Location.tsc, Location.latitude))\n",
    "Longitude = dict(zip(Location.tsc, Location.longitude))\n",
    "Visualizing_Data['Latitude']=Visualizing_Data['tsc']\n",
    "Visualizing_Data['Longitude']=Visualizing_Data['tsc']\n",
    "Visualizing_Data['Latitude']=Visualizing_Data['Latitude'].map(Latitude)\n",
    "Visualizing_Data['Longitude']=Visualizing_Data['Longitude'].map(Longitude)\n",
    "Visualizing_Data.to_csv(\"Loop_Detector_Visulization.csv\")"
   ]
  }
 ],
 "metadata": {
  "kernelspec": {
   "display_name": "Python 3",
   "language": "python",
   "name": "python3"
  },
  "language_info": {
   "codemirror_mode": {
    "name": "ipython",
    "version": 3
   },
   "file_extension": ".py",
   "mimetype": "text/x-python",
   "name": "python",
   "nbconvert_exporter": "python",
   "pygments_lexer": "ipython3",
   "version": "3.7.6"
  }
 },
 "nbformat": 4,
 "nbformat_minor": 4
}
