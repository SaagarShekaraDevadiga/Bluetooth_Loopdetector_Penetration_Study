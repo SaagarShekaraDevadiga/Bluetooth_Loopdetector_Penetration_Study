{
 "cells": [
  {
   "cell_type": "markdown",
   "metadata": {},
   "source": [
    "# AIM: \n",
    "    1. Get the Total Vechile Count at each intersection for one day\n",
    "    2. Get the Lane count and total at each intersection for one day \n",
    "    3. Find the Lane occupancy \n",
    "    4. Map the Geolocations to the final dataframe for visuaization "
   ]
  },
  {
   "cell_type": "code",
   "execution_count": null,
   "metadata": {},
   "outputs": [],
   "source": [
    "import pandas as pd\n",
    "import os\n",
    "#os.chdir(\"../Task 2\")\n",
    "#Read the combined raw dataset \n",
    "Loop_Detector=pd.read_csv(r\"D:\\Python\\AllDay.csv\")"
   ]
  },
  {
   "cell_type": "markdown",
   "metadata": {},
   "source": [
    "Get the Flow observations for each intersection and count the number of lanes. Split and save the vechile count,Lane count for later joining because grouping is done and i need the repeated values"
   ]
  },
  {
   "cell_type": "code",
   "execution_count": 2,
   "metadata": {},
   "outputs": [],
   "source": [
    "#Getting the sum of RF and MF \n",
    "Flow_Observation = Loop_Detector.groupby(['Recorded time','tsc']).agg({'mf1':'sum','mf2':'sum','mf3':'sum','mf4':'sum','mf5':'sum','rf1':'sum','rf2':'sum','rf3':'sum','rf4':'sum','rf5':'sum'})\n",
    "#Getting the count fo number of lanes\n",
    "Lane_Count = df.groupby(['Recorded time','tsc']).agg({'mf1':'count','mf2':'count','mf3':'count','mf4':'count','mf5':'count','rf1':'count','rf2':'count','rf3':'count','rf4':'count','rf5':'count'})\n",
    "Flow_Observation.to_csv(\"Flow_Observation.csv\") \n",
    "Lane_Count.to_csv(\"Lane_Count.csv\") "
   ]
  },
  {
   "cell_type": "markdown",
   "metadata": {},
   "source": [
    "Calculating the total modified and raw flow obserevd at each intersection for the entire day "
   ]
  },
  {
   "cell_type": "code",
   "execution_count": 5,
   "metadata": {},
   "outputs": [],
   "source": [
    "Vechile_Count=pd.read_csv(\"Flow_Observation.csv\")# Read the vechile count \n",
    "Total_Modified_Flow = [ row.mf1 + row.mf2 + row.mf3 + row.mf4 + row.mf5 for index, row in Vechile_Count.iterrows() ]\n",
    "Total_Raw_Flow = [ row.rf1 + row.rf2 + row.rf3 + row.rf4 + row.rf5 for index, row in Vechile_Count.iterrows() ]\n",
    "Vechile_Count['MF']=Total_Modified_Flow\n",
    "Vechile_Count['RF']=Total_Raw_Flow\n",
    "Vechile_Count=Vechile_Count.drop(columns=['mf1', 'mf2','mf3','mf4','mf5','rf1', 'rf2','rf3','rf4','rf5'])"
   ]
  },
  {
   "cell_type": "markdown",
   "metadata": {},
   "source": [
    "Repeat the process for lane counts"
   ]
  },
  {
   "cell_type": "code",
   "execution_count": 6,
   "metadata": {},
   "outputs": [],
   "source": [
    "Numer_Of_Lanes=pd.read_csv(\"Lane_Count.csv\")# Read the Lane count \n",
    "# Add the needed columns and drop the rest \n",
    "mf_LC = [ row.mf1 + row.mf2 + row.mf3 + row.mf4 + row.mf5 for index, row in Numer_Of_Lanes.iterrows() ]\n",
    "rf_LC = [ row.rf1 + row.rf2 + row.rf3 + row.rf4 + row.rf5 for index, row in Numer_Of_Lanes.iterrows() ]\n",
    "Numer_Of_Lanes['MF']=mf_LC\n",
    "Numer_Of_Lanes['RF']=rf_LC\n",
    "Numer_Of_Lanes=Numer_Of_Lanes.drop(columns=['mf1', 'mf2','mf3','mf4','mf5','rf1', 'rf2','rf3','rf4','rf5','RF','Recorded time'])\n",
    "Numer_Of_Lanes=Numer_Of_Lanes.rename(columns={\"MF\": \"Lane_Count\"}) # rename for inner join between the Lane count datafrae and thevechile count dataframe "
   ]
  },
  {
   "cell_type": "markdown",
   "metadata": {},
   "source": [
    "Mapping the Lane count to the dataframe with the vechile count "
   ]
  },
  {
   "cell_type": "code",
   "execution_count": 8,
   "metadata": {},
   "outputs": [],
   "source": [
    "Count = dict(zip(Numer_Of_Lanes.tsc, Numer_Of_Lanes.Lane_Count))\n",
    "Vechile_Count['Lane_Count']=Vechile_Count['tsc']\n",
    "Vechile_Count['Lane_Count']=Vechile_Count['Lane_Count'].map(Count)"
   ]
  },
  {
   "cell_type": "markdown",
   "metadata": {},
   "source": [
    "#### Dataframe (Vechile_Count_Lane_Count) \n",
    "contains one minute time series of the vechile count and the Lane count"
   ]
  },
  {
   "cell_type": "code",
   "execution_count": 10,
   "metadata": {},
   "outputs": [],
   "source": [
    "Vechile_Count_Lane_Count=Vechile_Count "
   ]
  },
  {
   "cell_type": "markdown",
   "metadata": {},
   "source": [
    "#### Getting the Total Vechile Count for One Day (TVC)"
   ]
  },
  {
   "cell_type": "code",
   "execution_count": 12,
   "metadata": {},
   "outputs": [],
   "source": [
    "Total_Vechile_Count = VC_LC.groupby('tsc').agg({'MF':'sum','RF':'sum'})\n",
    "Total_Vechile_Count.to_csv(\"Total_Vechile_Count_One_Day.csv\")\n",
    "Total_Vechile_Count_With_Lane_Count=pd.read_csv(\"Total_Vechile_Count_One_Day.csv\")\n",
    "Total_Vechile_Count_With_Lane_Count['Lane_Count']=Total_Vechile_Count_With_Lane_Count['tsc']\n",
    "Total_Vechile_Count_With_Lane_Count['Lane_Count']=Total_Vechile_Count_With_Lane_Count['Lane_Count'].map(Count)\n",
    "Visualizing_Data=Total_Vechile_Count_With_Lane_Count #Final Dataframe "
   ]
  },
  {
   "cell_type": "markdown",
   "metadata": {},
   "source": [
    "#### Lane Occupancy at each intersection = Total_Vechile_Count / Number_Of_Intersection_One_Day\n"
   ]
  },
  {
   "cell_type": "code",
   "execution_count": 14,
   "metadata": {},
   "outputs": [],
   "source": [
    "Visualizing_Data['MF_Over_LaneCount']=\" \"\n",
    "Visualizing_Data['RF_Over_LaneCount']=\" \"\n",
    "for i in range(len(Visualizing_Data)):\n",
    "    Visualizing_Data.at[i,'MF_Over_LaneCount']=Visualizing_Data.at[i,'MF']/Visualizing_Data.at[i,'Lane_Count']\n",
    "    Visualizing_Data.at[i,'RF_Over_LaneCount']=Visualizing_Data.at[i,'RF']/Visualizing_Data.at[i,'Lane_Count']"
   ]
  },
  {
   "cell_type": "markdown",
   "metadata": {},
   "source": [
    "#### Mapping rules for Location:\n",
    "    1.Make a dictinory having a key-value pair of the data needed to be mapped\n",
    "    2.Create a column for which the data must be mapped in the original dataset\n",
    "    3.Use the Map function and feed the dictinoray as an input"
   ]
  },
  {
   "cell_type": "code",
   "execution_count": 16,
   "metadata": {},
   "outputs": [],
   "source": [
    "Loaction=pd.read_csv(\"IntDetailsOutput.csv\") # Mapping for Lat Long \n",
    "Latitude = dict(zip(Loaction.tsc, Loaction.latitude))\n",
    "Longitude = dict(zip(Loaction.tsc, Loaction.longitude))\n",
    "Visualizing_Data['Latitude']=\" \"\n",
    "Visualizing_Data['Longitude']=\" \"\n",
    "Visualizing_Data['Latitude']=Visualizing_Data['tsc']\n",
    "Visualizing_Data['Longitude']=Visualizing_Data['tsc']\n",
    "Visualizing_Data['Latitude']=Visualizing_Data['Latitude'].map(Latitude)\n",
    "Visualizing_Data['Longitude']=Visualizing_Data['Longitude'].map(Longitude)\n",
    "Visualizing_Data.to_csv(\"Visualizing_Data.csv\")"
   ]
  }
 ],
 "metadata": {
  "kernelspec": {
   "display_name": "Python 3",
   "language": "python",
   "name": "python3"
  },
  "language_info": {
   "codemirror_mode": {
    "name": "ipython",
    "version": 3
   },
   "file_extension": ".py",
   "mimetype": "text/x-python",
   "name": "python",
   "nbconvert_exporter": "python",
   "pygments_lexer": "ipython3",
   "version": "3.7.6"
  }
 },
 "nbformat": 4,
 "nbformat_minor": 4
}
