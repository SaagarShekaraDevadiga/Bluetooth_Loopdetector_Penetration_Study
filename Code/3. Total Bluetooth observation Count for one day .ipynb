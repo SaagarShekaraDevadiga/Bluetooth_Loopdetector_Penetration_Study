{
 "cells": [
  {
   "cell_type": "markdown",
   "metadata": {},
   "source": [
    "# Aim:\n",
    "Repeat the same excercise for Bluetooth data for the same day as the Loop detector data "
   ]
  },
  {
   "cell_type": "code",
   "execution_count": null,
   "metadata": {},
   "outputs": [],
   "source": [
    "import pandas as pd\n",
    "import os\n",
    "os.chdir(\"../Bluetooth\") # Tranfer to the working directory "
   ]
  },
  {
   "cell_type": "code",
   "execution_count": 2,
   "metadata": {},
   "outputs": [],
   "source": [
    "Bluetooth_Data=pd.read_csv(\"Bluetooth.csv\")\n",
    "Unique_Observation_Count = Bluetooth_Data.groupby('areaid')['deviceid'].nunique() # unique count for each area id for one day \n",
    "Unique_Observation_Count.to_csv(\"Unique_Observation_Count.csv\")\n",
    "Visualizing_Data=pd.read_csv(\"Unique_Count.csv\")\n",
    "Location=pd.read_csv(\"Sensors.csv\")"
   ]
  },
  {
   "cell_type": "markdown",
   "metadata": {},
   "source": [
    "# Mapping rules for Location:\n",
    "    1.Make a dictinory having a key-value pair of the data needed to be mapped\n",
    "    2.Create a column for which the data must be mapped in the original dataset\n",
    "    3.Use the Map function and feed the dictinoray as an input"
   ]
  },
  {
   "cell_type": "code",
   "execution_count": 5,
   "metadata": {},
   "outputs": [],
   "source": [
    "#Map out the lat and ong to the final dataframe \n",
    "Latitude = dict(zip(Location.BMS_ID, Location.X))\n",
    "Longitude = dict(zip(Location.BMS_ID, Location.Y))\n",
    "Visualizing_Data['Latitude']=Visualizing_Data['areaid']\n",
    "Visualizing_Data['Latitude']=Visualizing_Data['Latitude'].map(Latitude)\n",
    "Visualizing_Data['Longitude']=Visualizing_Data['areaid']\n",
    "Visualizing_Data['Longitude']=Visualizing_Data['Longitude'].map(Longitude)\n",
    "Visualizing_Data.to_csv(\"Visualizing_Data.csv\")"
   ]
  }
 ],
 "metadata": {
  "kernelspec": {
   "display_name": "Python 3",
   "language": "python",
   "name": "python3"
  },
  "language_info": {
   "codemirror_mode": {
    "name": "ipython",
    "version": 3
   },
   "file_extension": ".py",
   "mimetype": "text/x-python",
   "name": "python",
   "nbconvert_exporter": "python",
   "pygments_lexer": "ipython3",
   "version": "3.7.6"
  }
 },
 "nbformat": 4,
 "nbformat_minor": 4
}
